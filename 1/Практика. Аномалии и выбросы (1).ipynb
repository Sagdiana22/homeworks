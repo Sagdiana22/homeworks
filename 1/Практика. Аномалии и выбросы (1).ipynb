{
 "cells": [
  {
   "cell_type": "markdown",
   "id": "09a9af24",
   "metadata": {
    "id": "09a9af24"
   },
   "source": [
    "# Аномалии и выбросы. Практическая работа"
   ]
  },
  {
   "cell_type": "markdown",
   "id": "462864db",
   "metadata": {
    "ExecuteTime": {
     "end_time": "2022-01-30T20:34:53.684146Z",
     "start_time": "2022-01-30T20:34:53.641740Z"
    },
    "id": "462864db"
   },
   "source": [
    "### Задача. Исследование выбросов с использованием правила трёх сигм\n",
    "\n",
    "1. Загрузите датасет из `test_outliers.csv` и выведите первые пять записей.\n",
    "\n"
   ]
  },
  {
   "cell_type": "code",
   "execution_count": null,
   "id": "0de3b626",
   "metadata": {
    "id": "0de3b626"
   },
   "outputs": [],
   "source": [
    "# Ваш код здесь"
   ]
  },
  {
   "cell_type": "markdown",
   "id": "fadcffa0",
   "metadata": {
    "id": "fadcffa0"
   },
   "source": [
    "2. Выведите описательные статистики для признака `value`.\n"
   ]
  },
  {
   "cell_type": "code",
   "execution_count": null,
   "id": "65adcd53",
   "metadata": {
    "ExecuteTime": {
     "end_time": "2022-01-30T20:37:32.872075Z",
     "start_time": "2022-01-30T20:37:32.867549Z"
    },
    "id": "65adcd53"
   },
   "outputs": [],
   "source": [
    "# Ваш код здесь"
   ]
  },
  {
   "cell_type": "markdown",
   "id": "604ccf74",
   "metadata": {
    "id": "604ccf74"
   },
   "source": [
    "3. Выведите границы для нормальных значений признака, используя правило трёх сигм. Напишите функцию `calculate_outliers_3sigma` для расчёта границ самостоятельно. Посмотрите, входят ли минимальное и максимальное значения в интервал между полученными границами.\n"
   ]
  },
  {
   "cell_type": "code",
   "execution_count": null,
   "id": "d6e8d428",
   "metadata": {
    "id": "d6e8d428"
   },
   "outputs": [],
   "source": [
    "# Ваш код здесь"
   ]
  },
  {
   "cell_type": "markdown",
   "id": "6ce54244",
   "metadata": {
    "id": "6ce54244"
   },
   "source": [
    "4. Посчитайте и выведите количество выбросов в признаке."
   ]
  },
  {
   "cell_type": "code",
   "execution_count": null,
   "id": "ccd33c76",
   "metadata": {
    "id": "ccd33c76"
   },
   "outputs": [],
   "source": [
    "# Ваш код здесь"
   ]
  }
 ],
 "metadata": {
  "colab": {
   "collapsed_sections": [],
   "name": "18.4_Практика.ipynb",
   "provenance": []
  },
  "kernelspec": {
   "display_name": "Python 3",
   "language": "python",
   "name": "python3"
  },
  "language_info": {
   "codemirror_mode": {
    "name": "ipython",
    "version": 3
   },
   "file_extension": ".py",
   "mimetype": "text/x-python",
   "name": "python",
   "nbconvert_exporter": "python",
   "pygments_lexer": "ipython3",
   "version": "3.8.8"
  },
  "toc": {
   "base_numbering": 1,
   "nav_menu": {},
   "number_sections": true,
   "sideBar": true,
   "skip_h1_title": false,
   "title_cell": "Table of Contents",
   "title_sidebar": "Contents",
   "toc_cell": false,
   "toc_position": {},
   "toc_section_display": true,
   "toc_window_display": false
  }
 },
 "nbformat": 4,
 "nbformat_minor": 5
}
