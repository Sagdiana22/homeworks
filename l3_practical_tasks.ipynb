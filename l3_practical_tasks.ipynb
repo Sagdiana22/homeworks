{
 "cells": [
  {
   "cell_type": "markdown",
   "id": "672d07f2",
   "metadata": {},
   "source": [
    "### This jupyter notebook contains practical tasks for the topic \"List comprehension and functions with unlimited arguments\"\n",
    "\n",
    "**Author : Umidjon Sattorov. Machine Learning engineer**"
   ]
  },
  {
   "cell_type": "markdown",
   "id": "76959c10",
   "metadata": {},
   "source": [
    "    1) Создайте список квадратов чисел от 1 до 10.\n",
    "    Пример вывода: [1, 4, 9, 16, ..., 100]"
   ]
  },
  {
   "cell_type": "markdown",
   "id": "76ed050b",
   "metadata": {},
   "source": [
    "1) 1 dan 10 gacha bo'lgan sonlarning kvadratlaridan ro'yxat yarating.\n",
    "Namuna natija: [1, 4, 9, 16, ..., 100]"
   ]
  },
  {
   "cell_type": "code",
   "execution_count": 5,
   "id": "177faaca",
   "metadata": {},
   "outputs": [
    {
     "name": "stdout",
     "output_type": "stream",
     "text": [
      "[1, 4, 9, 16, 25, 36, 49, 64, 81, 100]\n"
     ]
    }
   ],
   "source": [
    "# Your code goes here\n",
    "num=[a**2 for a in range(1,11)]\n",
    "print(num)"
   ]
  },
  {
   "cell_type": "markdown",
   "id": "184b59a7",
   "metadata": {},
   "source": [
    "    2) Из списка слов [\"apple\", \"banana\", \"cherry\"] создайте список длин этих слов.\n",
    "    Пример вывода: [5, 6, 6]"
   ]
  },
  {
   "cell_type": "markdown",
   "id": "618d795d",
   "metadata": {},
   "source": [
    "2) [\"apple\", \"banana\", \"cherry\"] so'zlar ro'yxatidan ushbu so'zlarning uzunliklaridan iborat ro'yxat yarating.\n",
    "\n",
    "Namuna natija: [5, 6, 6]"
   ]
  },
  {
   "cell_type": "code",
   "execution_count": 2,
   "id": "0633f29a",
   "metadata": {},
   "outputs": [
    {
     "data": {
      "text/plain": [
       "[5, 6, 6]"
      ]
     },
     "execution_count": 2,
     "metadata": {},
     "output_type": "execute_result"
    }
   ],
   "source": [
    "fruits=[\"apple\", \"banana\", \"cherry\"]\n",
    "u = [len(fruit) for fruit in fruits]\n",
    "u\n"
   ]
  },
  {
   "cell_type": "code",
   "execution_count": 5,
   "id": "6a412980",
   "metadata": {},
   "outputs": [
    {
     "data": {
      "text/plain": [
       "5"
      ]
     },
     "execution_count": 5,
     "metadata": {},
     "output_type": "execute_result"
    }
   ],
   "source": [
    "len(\"aaaaa\")"
   ]
  },
  {
   "cell_type": "markdown",
   "id": "f5fe4425",
   "metadata": {},
   "source": [
    "    3) Из строки \"Hello, World!\" создайте список символов в верхнем регистре.\n",
    "    Пример вывода: ['H', 'E', 'L', 'L', 'O', ',', ' ', 'W', 'O', 'R', 'L', 'D', '!']"
   ]
  },
  {
   "cell_type": "markdown",
   "id": "6a33c957",
   "metadata": {},
   "source": [
    "3) \"Hello, World!\" matnidan katta harflardagi belgilar ro'yxatini yarating.\n",
    "\n",
    "Namuna natija: ['H', 'E', 'L', 'L', 'O', ',', ' ', 'W', 'O', 'R', 'L', 'D', '!']"
   ]
  },
  {
   "cell_type": "code",
   "execution_count": 15,
   "id": "07d3787f",
   "metadata": {},
   "outputs": [
    {
     "name": "stdout",
     "output_type": "stream",
     "text": [
      "['H', 'E', 'L', 'L', 'O', ',', 'W', 'O', 'R', 'L', 'D', '!']\n"
     ]
    }
   ],
   "source": [
    "# Your code goes here\n",
    "print([c.upper() for c in \"Hello,World!\"])"
   ]
  },
  {
   "cell_type": "markdown",
   "id": "d227aaa9",
   "metadata": {},
   "source": [
    "    4) Напишите функцию merge_lists, которая объединяет все переданные списки (*args) в один.\n",
    "    Пример вызова:"
   ]
  },
  {
   "cell_type": "markdown",
   "id": "c89cf96f",
   "metadata": {},
   "source": [
    "4) merge_lists nomli funksiya yozing, u barcha berilgan ro'yxatlarni (*args) bitta ro'yxatga birlashtiradi.\n",
    "\n",
    "Namuna chaqiruv:"
   ]
  },
  {
   "cell_type": "code",
   "execution_count": 18,
   "id": "cb3c0946",
   "metadata": {},
   "outputs": [
    {
     "data": {
      "text/plain": [
       "([1, 2], [3, 4], [5])"
      ]
     },
     "execution_count": 18,
     "metadata": {},
     "output_type": "execute_result"
    }
   ],
   "source": [
    "merge_lists=([1, 2], [3, 4], [5])  # → [1, 2, 3, 4, 5]  \n",
    "merge_lists"
   ]
  },
  {
   "cell_type": "code",
   "execution_count": 32,
   "id": "9f68c8ca",
   "metadata": {},
   "outputs": [
    {
     "name": "stdout",
     "output_type": "stream",
     "text": [
      "[1, 2, 3, 4, 5, 6]\n"
     ]
    }
   ],
   "source": [
    "def merge_lists(*args):\n",
    "    return[item for list in args for item in list]\n",
    "\n",
    "print(merge_lists([1,2], [3,4], [5,6]))"
   ]
  },
  {
   "cell_type": "markdown",
   "id": "2ca70e97",
   "metadata": {},
   "source": []
  },
  {
   "cell_type": "markdown",
   "id": "e3acdc35",
   "metadata": {},
   "source": [
    "    5) Напишите функцию sum_all, которая принимает любое количество чисел через *args и возвращает их сумму.\n",
    "    Пример вызова:"
   ]
  },
  {
   "cell_type": "markdown",
   "id": "2aad502e",
   "metadata": {},
   "source": [
    "5) sum_all nomli funksiya yozing, u *args orqali qabul qilingan istalgan miqdordagi sonlarni yig‘indisini qaytaradi.\n",
    "\n",
    "Namuna chaqiruv:"
   ]
  },
  {
   "cell_type": "code",
   "execution_count": 17,
   "id": "81154a2e",
   "metadata": {},
   "outputs": [
    {
     "data": {
      "text/plain": [
       "(10, 20, 30, 40)"
      ]
     },
     "execution_count": 17,
     "metadata": {},
     "output_type": "execute_result"
    }
   ],
   "source": [
    "sum_all=(1, 2, 3)  # → 6  \n",
    "sum_all=(10, 20, 30, 40)  # → 100 \n",
    "sum_all"
   ]
  },
  {
   "cell_type": "code",
   "execution_count": 35,
   "id": "3ac1ae09",
   "metadata": {},
   "outputs": [
    {
     "data": {
      "text/plain": [
       "20500"
      ]
     },
     "execution_count": 35,
     "metadata": {},
     "output_type": "execute_result"
    }
   ],
   "source": [
    "def sum_all (*args):\n",
    "    return sum(args)\n",
    "\n",
    "sum_all(100, 20000, 400)"
   ]
  },
  {
   "cell_type": "code",
   "execution_count": null,
   "id": "d9caf522",
   "metadata": {},
   "outputs": [],
   "source": []
  }
 ],
 "metadata": {
  "kernelspec": {
   "display_name": "Python 3",
   "language": "python",
   "name": "python3"
  },
  "language_info": {
   "codemirror_mode": {
    "name": "ipython",
    "version": 3
   },
   "file_extension": ".py",
   "mimetype": "text/x-python",
   "name": "python",
   "nbconvert_exporter": "python",
   "pygments_lexer": "ipython3",
   "version": "3.13.5"
  }
 },
 "nbformat": 4,
 "nbformat_minor": 5
}
